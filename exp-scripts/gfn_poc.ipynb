{
 "cells": [
  {
   "cell_type": "code",
   "execution_count": 2,
   "metadata": {},
   "outputs": [
    {
     "name": "stdout",
     "output_type": "stream",
     "text": [
      "The autoreload extension is already loaded. To reload it, use:\n",
      "  %reload_ext autoreload\n"
     ]
    }
   ],
   "source": [
    "# mcmc is for later\n",
    "import os\n",
    "import sys\n",
    "nb_dir = os.path.dirname(os.getcwd())\n",
    "sys.path.append(nb_dir)\n",
    "\n",
    "# Now you can import your module\n",
    "# from pyro.infer.mcmc import MCMC\n",
    "armature = {\"nothing\": 0}\n",
    "\n",
    "primitve_shapes = {\n",
    "    \"triangle\": \"|\\\\\",\n",
    "    \"point\": \".\",\n",
    "    \"quad\": \"[]\",\n",
    "    \"triangle_strip\": \"|\\\\|\\\\|\",\n",
    "    \"quad_strip\": \"[][][]\",\n",
    "}\n",
    "\n",
    "%load_ext autoreload\n",
    "%autoreload 2"
   ]
  },
  {
   "cell_type": "code",
   "execution_count": 3,
   "metadata": {},
   "outputs": [
    {
     "data": {
      "text/plain": [
       "{'flow_matrix': tensor([[0.0000, 0.5157, 0.5120, 0.5402, 0.5107, 0.4868, 0.4905, 0.5096, 0.5055,\n",
       "          0.5157],\n",
       "         [0.5157, 0.0000, 0.5048, 0.4924, 0.5057, 0.5013, 0.4950, 0.5017, 0.4944,\n",
       "          0.5050],\n",
       "         [0.5120, 0.5048, 0.0000, 0.5092, 0.4948, 0.4932, 0.5228, 0.4904, 0.4843,\n",
       "          0.5133],\n",
       "         [0.5402, 0.4924, 0.5092, 0.0000, 0.4811, 0.4849, 0.4774, 0.4899, 0.4717,\n",
       "          0.5198],\n",
       "         [0.5107, 0.5057, 0.4948, 0.4811, 0.0000, 0.4898, 0.5254, 0.4931, 0.5010,\n",
       "          0.5570],\n",
       "         [0.4868, 0.5013, 0.4932, 0.4849, 0.4898, 0.0000, 0.5122, 0.4965, 0.4981,\n",
       "          0.5294],\n",
       "         [0.4905, 0.4950, 0.5228, 0.4774, 0.5254, 0.5122, 0.0000, 0.4879, 0.5092,\n",
       "          0.5224],\n",
       "         [0.5096, 0.5017, 0.4904, 0.4899, 0.4931, 0.4965, 0.4879, 0.0000, 0.4686,\n",
       "          0.5236],\n",
       "         [0.5055, 0.4944, 0.4843, 0.4717, 0.5010, 0.4981, 0.5092, 0.4686, 0.0000,\n",
       "          0.5134],\n",
       "         [0.5157, 0.5050, 0.5133, 0.5198, 0.5570, 0.5294, 0.5224, 0.5236, 0.5134,\n",
       "          0.0000]], grad_fn=<AddBackward0>),\n",
       " 'total_flow': tensor(22.6473, grad_fn=<DivBackward0>),\n",
       " 'forward_flow': tensor(22.6473, grad_fn=<SumBackward0>),\n",
       " 'backward_flow': tensor(407.6508, grad_fn=<SumBackward0>),\n",
       " 'local_flow': tensor(4.4828, grad_fn=<SumBackward0>)}"
      ]
     },
     "execution_count": 3,
     "metadata": {},
     "output_type": "execute_result"
    }
   ],
   "source": [
    "from bpygfn import ActionEncoder, StateFlowModel,example_usage\n",
    "\n",
    "# Now you can import your module\n",
    "# from pyro.infer.mcmc import MCMC\n",
    "armature = {\"nothing\": 0}\n",
    "\n",
    "primitve_shapes = {\n",
    "    \"triangle\": \"|\\\\\",\n",
    "    \"point\": \".\",\n",
    "    \"quad\": \"[]\",\n",
    "    \"triangle_strip\": \"|\\\\|\\\\|\",\n",
    "    \"quad_strip\": \"[][][]\",\n",
    "}\n",
    "\n",
    "\n",
    "encoder = ActionEncoder(max_sequence_length=32,\n",
    "                        action_vocab=primitve_shapes.keys(),\n",
    "                        positional_dim=4)\n",
    "\n",
    "def compose_mesh(dx: list):\n",
    "    return dx\n",
    "\n",
    "\n",
    "# inital test\n",
    "def is_blade_of_grass(mesh):\n",
    "    # |\\|/\n",
    "    if all([x == \"triangle\" for x in mesh]) and len(mesh) % 2:\n",
    "        return 3\n",
    "    # |\\|/|.\n",
    "    if all([x == \"triangle_strip\" for x in mesh[:-1]]) and mesh[-1] == \"point\":\n",
    "        return 6\n",
    "    # [][][][].\n",
    "    if all([x == \"quad_strip\" for x in mesh[:-1]]) and mesh[-1] == \"point\":\n",
    "        return 3\n",
    "\n",
    "    return 0\n",
    "    # # pi prod\n",
    "    # if reduce(lambda x, y: x * y, map(lambda x: primitve_shapes[x], mesh)) < 12:\n",
    "    #     return True\n",
    "    # else:\n",
    "    #     return False\n",
    "\n",
    "\n",
    "# this means that this will generate plolygons with proparty 2X as much\n",
    "def mesh_reward(mesh):\n",
    "    return is_blade_of_grass(mesh)\n",
    "\n",
    "example_usage()"
   ]
  },
  {
   "cell_type": "markdown",
   "metadata": {},
   "source": [
    "# Flow Network\n",
    "- The goal of the flow network will be to generate examples *proportional* to `reward`\n",
    "- the net in GflowNet refers to an MDP\n",
    "- 'input_dims'\n",
    "    - For choosing in this `primitve_shapes` example there are $4$ *patches*\n",
    "> not sure if `source` and`sink` have to be a defined composition. or can by any composition with a given property that it finds\n",
    "\n",
    "\n"
   ]
  },
  {
   "cell_type": "code",
   "execution_count": null,
   "metadata": {},
   "outputs": [],
   "source": [
    "import torch.nn as nn\n",
    "\n",
    "\"\"\"\n",
    "A neural network model class that inherits from `torch.nn.Module`.\n",
    "\n",
    "Attributes:\n",
    "-----------\n",
    "mlp : torch.nn\n",
    "    A multi-layer perceptron (MLP) neural network.\n",
    "\n",
    "Methods:\n",
    "--------\n",
    "__init__(hid_dim: int) -> None\n",
    "    Initializes the flowModdel class with a hidden dimension size.\n",
    "\"\"\"\n",
    "\n",
    "\n",
    "class FlowModel(nn.Module):\n",
    "    def __init__(self, input_dims: any, num_emb: int, num_hid: int) -> None:\n",
    "        super().__init__()\n",
    "        # input_dim:int of possable actions\n",
    "        self.mlp = nn.Sequential(\n",
    "            nn.Linear(input_dims, num_emb), nn.LeakyReLU(), nn.Linear(num_emb, num_hid),\n",
    "            nn.LeakyReLU(),\n",
    "            nn.Linear(num_hid,)\n",
    "        )\n",
    "\n",
    "    def forward(self, x) -> any:\n",
    "        # flow must be positive o\n",
    "\n",
    "        # unclear to me how x contains this information\n",
    "        # ...\n",
    "        # and multiply by (1 - x) to give 0 flow to actions we know we can't take\n",
    "        # (in this case, x[i] is 1 if a feature is already there, so we know we\n",
    "        # can't add it again)\n",
    "        # ...\n",
    "\n",
    "        # in the paper this is F\n",
    "        return self.mlp(x).exp()"
   ]
  },
  {
   "cell_type": "markdown",
   "metadata": {},
   "source": [
    "- contructing trajectory\n",
    "$$\\sum_{s: (s,s')\\in\\mathcal{E}} F(s,s') = R(s') + \\sum_{s'':(s',s'')\\in\\mathcal{E}} F(s',s'')$$"
   ]
  },
  {
   "cell_type": "code",
   "execution_count": 33,
   "metadata": {},
   "outputs": [],
   "source": [
    "from typing import List, Tuple\n",
    "\n",
    "def face_parents(state: List[str]) -> Tuple[List[List[str]], List[int]]:\n",
    "    \"\"\"\n",
    "    Find parent states and their corresponding actions for a given state.\n",
    "    \n",
    "    Args:\n",
    "        state: Current state represented as a list of face parts\n",
    "        \n",
    "    Returns:\n",
    "        Tuple of (parent_states, parent_actions) where:\n",
    "        - parent_states is a list of states, each missing one face part\n",
    "        - parent_actions is a list of indices corresponding to the removed parts\n",
    "    \"\"\"\n",
    "    # Create parent states by removing one face part at a time\n",
    "    parent_states = [[part for part in state if part != face_part] \n",
    "                    for face_part in state]\n",
    "    \n",
    "    # Sort the state to create sorted_keys\n",
    "    sorted_keys = sorted(state)\n",
    "    \n",
    "    # Find the action index for each removed face part\n",
    "    parent_actions = [sorted_keys.index(face_part) \n",
    "                     for face_part in state]\n",
    "    \n",
    "    return parent_states, parent_actions"
   ]
  },
  {
   "cell_type": "markdown",
   "metadata": {},
   "source": [
    "- state to tensor"
   ]
  },
  {
   "cell_type": "markdown",
   "metadata": {},
   "source": [
    "# Train for Experiment\n",
    "\n",
    "1. Set up `mlflow` : from `./notebooks` dir run\n",
    "    ``` bash\n",
    "    # im useing poatry so\n",
    "    $ poetry run mlflow ui\n",
    "    ```\n",
    "2. open the server for the ui in browser\n",
    "    ``` bash\n",
    "    # example\n",
    "    http//localhost:8000\n",
    "    ```\n",
    "3. run the cells below and check for logging info"
   ]
  },
  {
   "cell_type": "code",
   "execution_count": 36,
   "metadata": {},
   "outputs": [],
   "source": [
    "import torch\n",
    "import numpy as np\n",
    "\n",
    "\n",
    "def face_to_tensor(face: list[str])->torch.Tensor:\n",
    "    return encoder.positional_encode(face)\n"
   ]
  },
  {
   "cell_type": "code",
   "execution_count": 35,
   "metadata": {},
   "outputs": [
    {
     "name": "stderr",
     "output_type": "stream",
     "text": [
      "  0%|         | 0/50000 [00:00<?, ?it/s]\n"
     ]
    },
    {
     "ename": "RuntimeError",
     "evalue": "mat1 and mat2 shapes cannot be multiplied (32x9 and 32x512)",
     "output_type": "error",
     "traceback": [
      "\u001b[0;31m---------------------------------------------------------------------------\u001b[0m",
      "\u001b[0;31mRuntimeError\u001b[0m                              Traceback (most recent call last)",
      "Cell \u001b[0;32mIn[35], line 28\u001b[0m\n\u001b[1;32m     26\u001b[0m state \u001b[38;5;241m=\u001b[39m []\n\u001b[1;32m     27\u001b[0m \u001b[38;5;66;03m# Predict F(s, a)\u001b[39;00m\n\u001b[0;32m---> 28\u001b[0m edge_flow_prediction \u001b[38;5;241m=\u001b[39m \u001b[43mF_sa\u001b[49m\u001b[43m(\u001b[49m\u001b[43mface_to_tensor\u001b[49m\u001b[43m(\u001b[49m\u001b[43mstate\u001b[49m\u001b[43m)\u001b[49m\u001b[43m)\u001b[49m\n\u001b[1;32m     29\u001b[0m \u001b[38;5;28;01mfor\u001b[39;00m t \u001b[38;5;129;01min\u001b[39;00m \u001b[38;5;28mrange\u001b[39m(max_bound):\n\u001b[1;32m     30\u001b[0m     \u001b[38;5;66;03m# The policy is just normalizing, and gives us the probability of each action\u001b[39;00m\n\u001b[1;32m     31\u001b[0m     policy \u001b[38;5;241m=\u001b[39m edge_flow_prediction \u001b[38;5;241m/\u001b[39m edge_flow_prediction\u001b[38;5;241m.\u001b[39msum()\n",
      "File \u001b[0;32m~/jpleona_C/thesis/Blender-ML-Thesis/.venv/lib/python3.11/site-packages/torch/nn/modules/module.py:1736\u001b[0m, in \u001b[0;36mModule._wrapped_call_impl\u001b[0;34m(self, *args, **kwargs)\u001b[0m\n\u001b[1;32m   1734\u001b[0m     \u001b[38;5;28;01mreturn\u001b[39;00m \u001b[38;5;28mself\u001b[39m\u001b[38;5;241m.\u001b[39m_compiled_call_impl(\u001b[38;5;241m*\u001b[39margs, \u001b[38;5;241m*\u001b[39m\u001b[38;5;241m*\u001b[39mkwargs)  \u001b[38;5;66;03m# type: ignore[misc]\u001b[39;00m\n\u001b[1;32m   1735\u001b[0m \u001b[38;5;28;01melse\u001b[39;00m:\n\u001b[0;32m-> 1736\u001b[0m     \u001b[38;5;28;01mreturn\u001b[39;00m \u001b[38;5;28;43mself\u001b[39;49m\u001b[38;5;241;43m.\u001b[39;49m\u001b[43m_call_impl\u001b[49m\u001b[43m(\u001b[49m\u001b[38;5;241;43m*\u001b[39;49m\u001b[43margs\u001b[49m\u001b[43m,\u001b[49m\u001b[43m \u001b[49m\u001b[38;5;241;43m*\u001b[39;49m\u001b[38;5;241;43m*\u001b[39;49m\u001b[43mkwargs\u001b[49m\u001b[43m)\u001b[49m\n",
      "File \u001b[0;32m~/jpleona_C/thesis/Blender-ML-Thesis/.venv/lib/python3.11/site-packages/torch/nn/modules/module.py:1747\u001b[0m, in \u001b[0;36mModule._call_impl\u001b[0;34m(self, *args, **kwargs)\u001b[0m\n\u001b[1;32m   1742\u001b[0m \u001b[38;5;66;03m# If we don't have any hooks, we want to skip the rest of the logic in\u001b[39;00m\n\u001b[1;32m   1743\u001b[0m \u001b[38;5;66;03m# this function, and just call forward.\u001b[39;00m\n\u001b[1;32m   1744\u001b[0m \u001b[38;5;28;01mif\u001b[39;00m \u001b[38;5;129;01mnot\u001b[39;00m (\u001b[38;5;28mself\u001b[39m\u001b[38;5;241m.\u001b[39m_backward_hooks \u001b[38;5;129;01mor\u001b[39;00m \u001b[38;5;28mself\u001b[39m\u001b[38;5;241m.\u001b[39m_backward_pre_hooks \u001b[38;5;129;01mor\u001b[39;00m \u001b[38;5;28mself\u001b[39m\u001b[38;5;241m.\u001b[39m_forward_hooks \u001b[38;5;129;01mor\u001b[39;00m \u001b[38;5;28mself\u001b[39m\u001b[38;5;241m.\u001b[39m_forward_pre_hooks\n\u001b[1;32m   1745\u001b[0m         \u001b[38;5;129;01mor\u001b[39;00m _global_backward_pre_hooks \u001b[38;5;129;01mor\u001b[39;00m _global_backward_hooks\n\u001b[1;32m   1746\u001b[0m         \u001b[38;5;129;01mor\u001b[39;00m _global_forward_hooks \u001b[38;5;129;01mor\u001b[39;00m _global_forward_pre_hooks):\n\u001b[0;32m-> 1747\u001b[0m     \u001b[38;5;28;01mreturn\u001b[39;00m \u001b[43mforward_call\u001b[49m\u001b[43m(\u001b[49m\u001b[38;5;241;43m*\u001b[39;49m\u001b[43margs\u001b[49m\u001b[43m,\u001b[49m\u001b[43m \u001b[49m\u001b[38;5;241;43m*\u001b[39;49m\u001b[38;5;241;43m*\u001b[39;49m\u001b[43mkwargs\u001b[49m\u001b[43m)\u001b[49m\n\u001b[1;32m   1749\u001b[0m result \u001b[38;5;241m=\u001b[39m \u001b[38;5;28;01mNone\u001b[39;00m\n\u001b[1;32m   1750\u001b[0m called_always_called_hooks \u001b[38;5;241m=\u001b[39m \u001b[38;5;28mset\u001b[39m()\n",
      "Cell \u001b[0;32mIn[32], line 36\u001b[0m, in \u001b[0;36mFlowModel.forward\u001b[0;34m(self, x)\u001b[0m\n\u001b[1;32m     25\u001b[0m \u001b[38;5;28;01mdef\u001b[39;00m \u001b[38;5;21mforward\u001b[39m(\u001b[38;5;28mself\u001b[39m,x)\u001b[38;5;241m-\u001b[39m\u001b[38;5;241m>\u001b[39m\u001b[38;5;28many\u001b[39m:\n\u001b[1;32m     26\u001b[0m     \u001b[38;5;66;03m# flow must be positive o\u001b[39;00m\n\u001b[1;32m     27\u001b[0m \n\u001b[0;32m   (...)\u001b[0m\n\u001b[1;32m     34\u001b[0m \n\u001b[1;32m     35\u001b[0m     \u001b[38;5;66;03m# in the paper this is F\u001b[39;00m\n\u001b[0;32m---> 36\u001b[0m     \u001b[38;5;28;01mreturn\u001b[39;00m \u001b[38;5;28;43mself\u001b[39;49m\u001b[38;5;241;43m.\u001b[39;49m\u001b[43mmlp\u001b[49m\u001b[43m(\u001b[49m\u001b[43mx\u001b[49m\u001b[43m)\u001b[49m\u001b[38;5;241m.\u001b[39mexp()\n",
      "File \u001b[0;32m~/jpleona_C/thesis/Blender-ML-Thesis/.venv/lib/python3.11/site-packages/torch/nn/modules/module.py:1736\u001b[0m, in \u001b[0;36mModule._wrapped_call_impl\u001b[0;34m(self, *args, **kwargs)\u001b[0m\n\u001b[1;32m   1734\u001b[0m     \u001b[38;5;28;01mreturn\u001b[39;00m \u001b[38;5;28mself\u001b[39m\u001b[38;5;241m.\u001b[39m_compiled_call_impl(\u001b[38;5;241m*\u001b[39margs, \u001b[38;5;241m*\u001b[39m\u001b[38;5;241m*\u001b[39mkwargs)  \u001b[38;5;66;03m# type: ignore[misc]\u001b[39;00m\n\u001b[1;32m   1735\u001b[0m \u001b[38;5;28;01melse\u001b[39;00m:\n\u001b[0;32m-> 1736\u001b[0m     \u001b[38;5;28;01mreturn\u001b[39;00m \u001b[38;5;28;43mself\u001b[39;49m\u001b[38;5;241;43m.\u001b[39;49m\u001b[43m_call_impl\u001b[49m\u001b[43m(\u001b[49m\u001b[38;5;241;43m*\u001b[39;49m\u001b[43margs\u001b[49m\u001b[43m,\u001b[49m\u001b[43m \u001b[49m\u001b[38;5;241;43m*\u001b[39;49m\u001b[38;5;241;43m*\u001b[39;49m\u001b[43mkwargs\u001b[49m\u001b[43m)\u001b[49m\n",
      "File \u001b[0;32m~/jpleona_C/thesis/Blender-ML-Thesis/.venv/lib/python3.11/site-packages/torch/nn/modules/module.py:1747\u001b[0m, in \u001b[0;36mModule._call_impl\u001b[0;34m(self, *args, **kwargs)\u001b[0m\n\u001b[1;32m   1742\u001b[0m \u001b[38;5;66;03m# If we don't have any hooks, we want to skip the rest of the logic in\u001b[39;00m\n\u001b[1;32m   1743\u001b[0m \u001b[38;5;66;03m# this function, and just call forward.\u001b[39;00m\n\u001b[1;32m   1744\u001b[0m \u001b[38;5;28;01mif\u001b[39;00m \u001b[38;5;129;01mnot\u001b[39;00m (\u001b[38;5;28mself\u001b[39m\u001b[38;5;241m.\u001b[39m_backward_hooks \u001b[38;5;129;01mor\u001b[39;00m \u001b[38;5;28mself\u001b[39m\u001b[38;5;241m.\u001b[39m_backward_pre_hooks \u001b[38;5;129;01mor\u001b[39;00m \u001b[38;5;28mself\u001b[39m\u001b[38;5;241m.\u001b[39m_forward_hooks \u001b[38;5;129;01mor\u001b[39;00m \u001b[38;5;28mself\u001b[39m\u001b[38;5;241m.\u001b[39m_forward_pre_hooks\n\u001b[1;32m   1745\u001b[0m         \u001b[38;5;129;01mor\u001b[39;00m _global_backward_pre_hooks \u001b[38;5;129;01mor\u001b[39;00m _global_backward_hooks\n\u001b[1;32m   1746\u001b[0m         \u001b[38;5;129;01mor\u001b[39;00m _global_forward_hooks \u001b[38;5;129;01mor\u001b[39;00m _global_forward_pre_hooks):\n\u001b[0;32m-> 1747\u001b[0m     \u001b[38;5;28;01mreturn\u001b[39;00m \u001b[43mforward_call\u001b[49m\u001b[43m(\u001b[49m\u001b[38;5;241;43m*\u001b[39;49m\u001b[43margs\u001b[49m\u001b[43m,\u001b[49m\u001b[43m \u001b[49m\u001b[38;5;241;43m*\u001b[39;49m\u001b[38;5;241;43m*\u001b[39;49m\u001b[43mkwargs\u001b[49m\u001b[43m)\u001b[49m\n\u001b[1;32m   1749\u001b[0m result \u001b[38;5;241m=\u001b[39m \u001b[38;5;28;01mNone\u001b[39;00m\n\u001b[1;32m   1750\u001b[0m called_always_called_hooks \u001b[38;5;241m=\u001b[39m \u001b[38;5;28mset\u001b[39m()\n",
      "File \u001b[0;32m~/jpleona_C/thesis/Blender-ML-Thesis/.venv/lib/python3.11/site-packages/torch/nn/modules/container.py:250\u001b[0m, in \u001b[0;36mSequential.forward\u001b[0;34m(self, input)\u001b[0m\n\u001b[1;32m    248\u001b[0m \u001b[38;5;28;01mdef\u001b[39;00m \u001b[38;5;21mforward\u001b[39m(\u001b[38;5;28mself\u001b[39m, \u001b[38;5;28minput\u001b[39m):\n\u001b[1;32m    249\u001b[0m     \u001b[38;5;28;01mfor\u001b[39;00m module \u001b[38;5;129;01min\u001b[39;00m \u001b[38;5;28mself\u001b[39m:\n\u001b[0;32m--> 250\u001b[0m         \u001b[38;5;28minput\u001b[39m \u001b[38;5;241m=\u001b[39m \u001b[43mmodule\u001b[49m\u001b[43m(\u001b[49m\u001b[38;5;28;43minput\u001b[39;49m\u001b[43m)\u001b[49m\n\u001b[1;32m    251\u001b[0m     \u001b[38;5;28;01mreturn\u001b[39;00m \u001b[38;5;28minput\u001b[39m\n",
      "File \u001b[0;32m~/jpleona_C/thesis/Blender-ML-Thesis/.venv/lib/python3.11/site-packages/torch/nn/modules/module.py:1736\u001b[0m, in \u001b[0;36mModule._wrapped_call_impl\u001b[0;34m(self, *args, **kwargs)\u001b[0m\n\u001b[1;32m   1734\u001b[0m     \u001b[38;5;28;01mreturn\u001b[39;00m \u001b[38;5;28mself\u001b[39m\u001b[38;5;241m.\u001b[39m_compiled_call_impl(\u001b[38;5;241m*\u001b[39margs, \u001b[38;5;241m*\u001b[39m\u001b[38;5;241m*\u001b[39mkwargs)  \u001b[38;5;66;03m# type: ignore[misc]\u001b[39;00m\n\u001b[1;32m   1735\u001b[0m \u001b[38;5;28;01melse\u001b[39;00m:\n\u001b[0;32m-> 1736\u001b[0m     \u001b[38;5;28;01mreturn\u001b[39;00m \u001b[38;5;28;43mself\u001b[39;49m\u001b[38;5;241;43m.\u001b[39;49m\u001b[43m_call_impl\u001b[49m\u001b[43m(\u001b[49m\u001b[38;5;241;43m*\u001b[39;49m\u001b[43margs\u001b[49m\u001b[43m,\u001b[49m\u001b[43m \u001b[49m\u001b[38;5;241;43m*\u001b[39;49m\u001b[38;5;241;43m*\u001b[39;49m\u001b[43mkwargs\u001b[49m\u001b[43m)\u001b[49m\n",
      "File \u001b[0;32m~/jpleona_C/thesis/Blender-ML-Thesis/.venv/lib/python3.11/site-packages/torch/nn/modules/module.py:1747\u001b[0m, in \u001b[0;36mModule._call_impl\u001b[0;34m(self, *args, **kwargs)\u001b[0m\n\u001b[1;32m   1742\u001b[0m \u001b[38;5;66;03m# If we don't have any hooks, we want to skip the rest of the logic in\u001b[39;00m\n\u001b[1;32m   1743\u001b[0m \u001b[38;5;66;03m# this function, and just call forward.\u001b[39;00m\n\u001b[1;32m   1744\u001b[0m \u001b[38;5;28;01mif\u001b[39;00m \u001b[38;5;129;01mnot\u001b[39;00m (\u001b[38;5;28mself\u001b[39m\u001b[38;5;241m.\u001b[39m_backward_hooks \u001b[38;5;129;01mor\u001b[39;00m \u001b[38;5;28mself\u001b[39m\u001b[38;5;241m.\u001b[39m_backward_pre_hooks \u001b[38;5;129;01mor\u001b[39;00m \u001b[38;5;28mself\u001b[39m\u001b[38;5;241m.\u001b[39m_forward_hooks \u001b[38;5;129;01mor\u001b[39;00m \u001b[38;5;28mself\u001b[39m\u001b[38;5;241m.\u001b[39m_forward_pre_hooks\n\u001b[1;32m   1745\u001b[0m         \u001b[38;5;129;01mor\u001b[39;00m _global_backward_pre_hooks \u001b[38;5;129;01mor\u001b[39;00m _global_backward_hooks\n\u001b[1;32m   1746\u001b[0m         \u001b[38;5;129;01mor\u001b[39;00m _global_forward_hooks \u001b[38;5;129;01mor\u001b[39;00m _global_forward_pre_hooks):\n\u001b[0;32m-> 1747\u001b[0m     \u001b[38;5;28;01mreturn\u001b[39;00m \u001b[43mforward_call\u001b[49m\u001b[43m(\u001b[49m\u001b[38;5;241;43m*\u001b[39;49m\u001b[43margs\u001b[49m\u001b[43m,\u001b[49m\u001b[43m \u001b[49m\u001b[38;5;241;43m*\u001b[39;49m\u001b[38;5;241;43m*\u001b[39;49m\u001b[43mkwargs\u001b[49m\u001b[43m)\u001b[49m\n\u001b[1;32m   1749\u001b[0m result \u001b[38;5;241m=\u001b[39m \u001b[38;5;28;01mNone\u001b[39;00m\n\u001b[1;32m   1750\u001b[0m called_always_called_hooks \u001b[38;5;241m=\u001b[39m \u001b[38;5;28mset\u001b[39m()\n",
      "File \u001b[0;32m~/jpleona_C/thesis/Blender-ML-Thesis/.venv/lib/python3.11/site-packages/torch/nn/modules/linear.py:125\u001b[0m, in \u001b[0;36mLinear.forward\u001b[0;34m(self, input)\u001b[0m\n\u001b[1;32m    124\u001b[0m \u001b[38;5;28;01mdef\u001b[39;00m \u001b[38;5;21mforward\u001b[39m(\u001b[38;5;28mself\u001b[39m, \u001b[38;5;28minput\u001b[39m: Tensor) \u001b[38;5;241m-\u001b[39m\u001b[38;5;241m>\u001b[39m Tensor:\n\u001b[0;32m--> 125\u001b[0m     \u001b[38;5;28;01mreturn\u001b[39;00m \u001b[43mF\u001b[49m\u001b[38;5;241;43m.\u001b[39;49m\u001b[43mlinear\u001b[49m\u001b[43m(\u001b[49m\u001b[38;5;28;43minput\u001b[39;49m\u001b[43m,\u001b[49m\u001b[43m \u001b[49m\u001b[38;5;28;43mself\u001b[39;49m\u001b[38;5;241;43m.\u001b[39;49m\u001b[43mweight\u001b[49m\u001b[43m,\u001b[49m\u001b[43m \u001b[49m\u001b[38;5;28;43mself\u001b[39;49m\u001b[38;5;241;43m.\u001b[39;49m\u001b[43mbias\u001b[49m\u001b[43m)\u001b[49m\n",
      "\u001b[0;31mRuntimeError\u001b[0m: mat1 and mat2 shapes cannot be multiplied (32x9 and 32x512)"
     ]
    }
   ],
   "source": [
    "import os\n",
    "from mlflow import log_metric, log_param, log_artifacts\n",
    "import tqdm\n",
    "import torch\n",
    "from torch.optim import Adam\n",
    "from torch.distributions.categorical import Categorical\n",
    "\n",
    "# import duckdb\n",
    "sorted_keys:list[str] = [*primitve_shapes.keys()]\n",
    "max_bound = 32\n",
    "\n",
    "\n",
    "# Instantiate model and optimizer\n",
    "F_sa = FlowModel(hid_dim=512, input_dim=encoder.max_sequence_length)\n",
    "opt = Adam(F_sa.parameters(), 3e-4)\n",
    "\n",
    "# Let's keep track of the losses and the faces we sample\n",
    "losses = []\n",
    "sampled_faces = []\n",
    "# To not complicate the code, I'll just accumulate losses here and take a\n",
    "# gradient step every `update_freq` episode.\n",
    "minibatch_loss = 0\n",
    "update_freq = 4\n",
    "for episode in tqdm.tqdm(range(50000), ncols=40):\n",
    "    # Each episode starts with an \"empty state\"\n",
    "    state = []\n",
    "    # Predict F(s, a)\n",
    "    edge_flow_prediction = F_sa(face_to_tensor(state))\n",
    "    for t in range(max_bound):\n",
    "        # The policy is just normalizing, and gives us the probability of each action\n",
    "        policy = edge_flow_prediction / edge_flow_prediction.sum()\n",
    "        # Sample the action\n",
    "        print(policy,new_state)\n",
    "        action = Categorical(probs=policy).sample()\n",
    "        # \"Go\" to the next state\n",
    "        #print(f\"Current state: {state},\\n Sorted keys: {sorted_keys},\\n State: {state}\")\n",
    "        new_state = state + [sorted_keys[action]]\n",
    "\n",
    "        # Now we want to compute the loss, we'll first enumerate the parents\n",
    "        parent_states, parent_actions = face_parents(new_state)\n",
    "        # And compute the edge flows F(s, a) of each parent\n",
    "        px = torch.stack([face_to_tensor(p) for p in parent_states])\n",
    "        pa = torch.tensor(parent_actions).long()\n",
    "        parent_edge_flow_preds = F_sa(px)[torch.arange(len(parent_states)), pa]\n",
    "        # Now we need to compute the reward and F(s, a) of the current state,\n",
    "        # which is currently `new_state`\n",
    "        if is_blade_of_grass(new_state):\n",
    "            # If we've built a complete face, we're done, so the reward is > 0\n",
    "            # (unless the face is invalid)\n",
    "            reward = mesh_reward(new_state)\n",
    "            # and since there are no children to this state F(s,a) = 0 \\forall a\n",
    "            edge_flow_prediction = torch.zeros(len(primitve_shapes))\n",
    "        else:\n",
    "            # Otherwise we keep going, and compute F(s, a)\n",
    "            reward = 0\n",
    "            edge_flow_prediction = F_sa(face_to_tensor(new_state))\n",
    "\n",
    "        # The loss as per the equation above\n",
    "        flow_mismatch = (\n",
    "            parent_edge_flow_preds.sum() - edge_flow_prediction.sum() - reward\n",
    "        ).pow(2)\n",
    "        minibatch_loss += flow_mismatch  # Accumulate\n",
    "        # Continue iterating\n",
    "        state = new_state\n",
    "\n",
    "    # We're done with the episode, add the face to the list, and if we are at an\n",
    "    # update episode, take a gradient step.\n",
    "    sampled_faces.append(state)\n",
    "    if episode % update_freq == 0:\n",
    "        losses.append(minibatch_loss.item())\n",
    "        minibatch_loss.backward()\n",
    "        opt.step()\n",
    "        opt.zero_grad()\n",
    "        minibatch_loss = 0\n"
   ]
  },
  {
   "cell_type": "code",
   "execution_count": 85,
   "metadata": {},
   "outputs": [
    {
     "data": {
      "text/plain": [
       "tensor(0.3951, grad_fn=<SumBackward0>)"
      ]
     },
     "execution_count": 85,
     "metadata": {},
     "output_type": "execute_result"
    },
    {
     "data": {
      "image/png": "[encoded data removed]",
      "text/plain": [
       "<Figure size 1000x300 with 1 Axes>"
      ]
     },
     "metadata": {},
     "output_type": "display_data"
    }
   ],
   "source": [
    "import matplotlib.pyplot as pp\n",
    "import numpy as np\n",
    "from collections import Counter\n",
    "\n",
    "pp.figure(figsize=(10,3))\n",
    "pp.plot(losses)\n",
    "pp.yscale('log')\n",
    "\n",
    "# why are they all zero??\n",
    "Counter(map(is_blade_of_grass,sampled_faces))\n",
    "F_sa(face_to_tensor([])).sum()\n",
    "# for x in sampled_faces:\n",
    "#     print(f\"R:{is_blade_of_grass(x)}\")\n",
    "#     print(x)\n",
    "#     print(\"\".join([ primitve_shapes[i]for i in x]))"
   ]
  },
  {
   "cell_type": "code",
   "execution_count": null,
   "metadata": {},
   "outputs": [],
   "source": []
  }
 ],
 "metadata": {
  "kernelspec": {
   "display_name": "gfnbpy-ST75ouQA-py3.11",
   "language": "python",
   "name": "python3"
  },
  "language_info": {
   "codemirror_mode": {
    "name": "ipython",
    "version": 3
   },
   "file_extension": ".py",
   "mimetype": "text/x-python",
   "name": "python",
   "nbconvert_exporter": "python",
   "pygments_lexer": "ipython3",
   "version": "3.11.11"
  }
 },
 "nbformat": 4,
 "nbformat_minor": 2
}
