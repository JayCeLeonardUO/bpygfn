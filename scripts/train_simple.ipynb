{
 "cells": [
  {
   "cell_type": "markdown",
   "metadata": {},
   "source": [
    "# Intro\n",
    "\n",
    "this is a note book with my own toy example so I can swap out with gflownet later"
   ]
  },
  {
   "cell_type": "code",
   "execution_count": 4,
   "metadata": {},
   "outputs": [],
   "source": [
    "from utils.paths import setup_paths\n",
    "setup_paths()\n",
    "\n",
    "import torch\n",
    "import torchgfn\n",
    "from dataclasses import dataclass \n",
    "from gfn import preprocessors\n",
    "import torch\n",
    "from gfn.actions import Actions\n",
    "from gfn.containers import Trajectories, Transitions\n",
    "from gfn.env import DiscreteEnv\n",
    "from gfn.modules import DiscretePolicyEstimator\n",
    "from gfn.preprocessors import EnumPreprocessor\n",
    "from gfn.states import DiscreteStates, States\n",
    "from gfn.utils.modules import DiscreteUniform, Tabular\n",
    "from torch import TensorType, nn\n",
    "from gfn.gflownet import TBGFlowNet\n",
    "from gfn.utils.modules import ML"
   ]
  },
  {
   "cell_type": "code",
   "execution_count": 8,
   "metadata": {},
   "outputs": [
    {
     "data": {
      "text/plain": [
       "<module 'torchgfn' (<_frozen_importlib_external.NamespaceLoader object at 0x7712c93a9610>)>"
      ]
     },
     "execution_count": 8,
     "metadata": {},
     "output_type": "execute_result"
    }
   ],
   "source": [
    "actions = [1,2,3]\n",
    "\n",
    "initial_state = []"
   ]
  },
  {
   "cell_type": "code",
   "execution_count": null,
   "metadata": {},
   "outputs": [],
   "source": [
    "def states_to_indicies():\n",
    "\n",
    "torchgfn."
   ]
  }
 ],
 "metadata": {
  "kernelspec": {
   "display_name": ".venv",
   "language": "python",
   "name": "python3"
  },
  "language_info": {
   "codemirror_mode": {
    "name": "ipython",
    "version": 3
   },
   "file_extension": ".py",
   "mimetype": "text/x-python",
   "name": "python",
   "nbconvert_exporter": "python",
   "pygments_lexer": "ipython3",
   "version": "3.11.11"
  }
 },
 "nbformat": 4,
 "nbformat_minor": 2
}
